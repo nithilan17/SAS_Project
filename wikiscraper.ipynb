{
 "cells": [
  {
   "cell_type": "code",
   "execution_count": 43,
   "metadata": {},
   "outputs": [],
   "source": [
    "from bs4 import BeautifulSoup \n",
    "import requests \n",
    "import pandas as pd\n",
    "import os \n",
    "import time\n",
    "\n",
    "def wikiscraper(team_name, year_int):\n",
    "    # team ex: \"Illinois_Fighting_Illini\"\n",
    "    # year_int ex: 2024\n",
    "    team = team_name.replace(\" \", \"_\")\n",
    "    year = str(year_int-1) + \"-\" + str(year_int%2000)\n",
    "    csv_folder = \"csv_files\"\n",
    "    year_path = os.path.join(csv_folder, year)\n",
    "    csv_file_path = os.path.join(year_path, f'{team}_{year}.csv')\n",
    "\n",
    "    if os.path.exists(csv_file_path):\n",
    "        return None\n",
    "    \n",
    "    roster = f\"https://en.wikipedia.org/wiki/{year}_{team}_men%27s_basketball_team\"\n",
    "    result = requests.get(roster)\n",
    "    if(result.status_code == 404):\n",
    "        print(team_name + \" error 404\")\n",
    "        return\n",
    "    content = result.text\n",
    "\n",
    "    soup = BeautifulSoup(content, 'lxml')\n",
    "    table = soup.find('table', class_= 'toccolours')\n",
    "    table = table.find('table', class_='sortable')\n",
    "\n",
    "    player_data = []\n",
    "\n",
    "    rows = table.find_all('tr')\n",
    "    for row in rows[1:]:\n",
    "        cells = row.find_all('td')\n",
    "        name = cells[2].text.strip().replace('\\xa0(W)', '')\n",
    "        hometown = cells[7].text.strip()\n",
    "        player_data.append({'Team': team_name, 'Name': name, 'Hometown': hometown})\n",
    "\n",
    "    df = pd.DataFrame(player_data)\n",
    "\n",
    "    if not os.path.exists(csv_folder):\n",
    "        os.makedirs(csv_folder)\n",
    "\n",
    "    if not os.path.exists(year_path):\n",
    "        os.makedirs(year_path)\n",
    "\n",
    "    df.to_csv(csv_file_path, index=False)\n",
    "    print(f'{team_name} CSV uploaded!')\n",
    "    time.sleep(3)"
   ]
  },
  {
   "cell_type": "code",
   "execution_count": 44,
   "metadata": {},
   "outputs": [
    {
     "name": "stdout",
     "output_type": "stream",
     "text": [
      "Purdue Boilermakers CSV uploaded!\n",
      "Indiana Hoosiers CSV uploaded!\n",
      "Indiana Hoosiers CSV uploaded!\n",
      "Indiana Hoosiers CSV uploaded!\n",
      "Indiana Hoosiers CSV uploaded!\n",
      "Ohio State Buckeyes CSV uploaded!\n",
      "Ohio State Buckeyes CSV uploaded!\n",
      "Ohio State Buckeyes CSV uploaded!\n",
      "Ohio State Buckeyes CSV uploaded!\n",
      "Illinois Fighting Illini CSV uploaded!\n",
      "Illinois Fighting Illini CSV uploaded!\n"
     ]
    },
    {
     "ename": "KeyboardInterrupt",
     "evalue": "",
     "output_type": "error",
     "traceback": [
      "\u001b[1;31m---------------------------------------------------------------------------\u001b[0m",
      "\u001b[1;31mKeyboardInterrupt\u001b[0m                         Traceback (most recent call last)",
      "Cell \u001b[1;32mIn[44], line 6\u001b[0m\n\u001b[0;32m      4\u001b[0m \u001b[38;5;28;01mfor\u001b[39;00m i \u001b[38;5;129;01min\u001b[39;00m \u001b[38;5;28mrange\u001b[39m (\u001b[38;5;241m2024\u001b[39m,\u001b[38;5;241m2020\u001b[39m,\u001b[38;5;241m-\u001b[39m\u001b[38;5;241m1\u001b[39m):\n\u001b[0;32m      5\u001b[0m     wikiscraper(team, i)\n\u001b[1;32m----> 6\u001b[0m     \u001b[43mtime\u001b[49m\u001b[38;5;241;43m.\u001b[39;49m\u001b[43msleep\u001b[49m\u001b[43m(\u001b[49m\u001b[38;5;241;43m1\u001b[39;49m\u001b[43m)\u001b[49m\n",
      "\u001b[1;31mKeyboardInterrupt\u001b[0m: "
     ]
    }
   ],
   "source": [
    "bigten = {\"Illinois Fighting Illini\", \"Ohio State Buckeyes\", \"Wisconsin Badgers\", \"Purdue Boilermakers\", \"Indiana Hoosiers\", \"Michigan Wolverines\", \"Michigan State Spartans\", \"Nebraska Cornhuskers\", \"Northwestern Wildcats\", \"Minnesota Golden Gophers\",  \"Maryland Terrapins\", \"Rutgers Scarlet Knights\"}\n",
    "# Ones that didnt work \"Penn State Nittany Lions\", \"Iowa Hawkeyes\"\n",
    "for team in bigten:\n",
    "    for i in range (2024,2020,-1):\n",
    "        wikiscraper(team, i)\n",
    "        time.sleep(1)"
   ]
  }
 ],
 "metadata": {
  "kernelspec": {
   "display_name": "Python 3",
   "language": "python",
   "name": "python3"
  },
  "language_info": {
   "codemirror_mode": {
    "name": "ipython",
    "version": 3
   },
   "file_extension": ".py",
   "mimetype": "text/x-python",
   "name": "python",
   "nbconvert_exporter": "python",
   "pygments_lexer": "ipython3",
   "version": "3.12.3"
  }
 },
 "nbformat": 4,
 "nbformat_minor": 2
}
