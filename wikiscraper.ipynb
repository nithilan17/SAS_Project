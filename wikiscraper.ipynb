{
 "cells": [
  {
   "cell_type": "code",
   "execution_count": 8,
   "metadata": {},
   "outputs": [],
   "source": [
    "from bs4 import BeautifulSoup \n",
    "import requests \n",
    "import pandas as pd\n",
    "import os \n",
    "import time\n",
    "\n",
    "def wikiscraper(team_name, year_int):\n",
    "    # team ex: \"Illinois_Fighting_Illini\"\n",
    "    # year_int ex: 2024\n",
    "    team = team_name.replace(\" \", \"_\")\n",
    "    year = str(year_int-1) + \"-\" + str(year_int%2000)\n",
    "    csv_folder = \"csv_files\"\n",
    "    year_path = os.path.join(csv_folder, year)\n",
    "    csv_file_path = os.path.join(year_path, f'{team}_{year}.csv')\n",
    "\n",
    "    if os.path.exists(csv_file_path):\n",
    "        return None\n",
    "    try: \n",
    "        roster = f\"https://en.wikipedia.org/wiki/{year}_{team}_men%27s_basketball_team\"\n",
    "        result = requests.get(roster)\n",
    "        if(result.status_code == 404):\n",
    "            print(team_name + \" error 404\")\n",
    "            return\n",
    "        content = result.text\n",
    "\n",
    "        soup = BeautifulSoup(content, 'lxml')\n",
    "        table = soup.find('table', class_= 'toccolours')\n",
    "        table = table.find('table', class_='sortable')\n",
    "\n",
    "        player_data = []\n",
    "\n",
    "        rows = table.find_all('tr')\n",
    "        for row in rows[1:]:\n",
    "            cells = row.find_all('td')\n",
    "            name = cells[2].text.strip().replace('\\xa0(W)', '')\n",
    "            hometown = cells[7].text.strip()\n",
    "            player_data.append({'Team': team_name, 'Name': name, 'Hometown': hometown})\n",
    "    except:\n",
    "        print(\"error thrown for \" + team_name + \" \" + year)\n",
    "        return\n",
    "    df = pd.DataFrame(player_data)\n",
    "\n",
    "    if not os.path.exists(csv_folder):\n",
    "        os.makedirs(csv_folder)\n",
    "\n",
    "    if not os.path.exists(year_path):\n",
    "        os.makedirs(year_path)\n",
    "\n",
    "    df.to_csv(csv_file_path, index=False)\n",
    "    print(f'{team_name} CSV uploaded!')\n",
    "    time.sleep(4)"
   ]
  },
  {
   "cell_type": "code",
   "execution_count": 9,
   "metadata": {},
   "outputs": [
    {
     "name": "stdout",
     "output_type": "stream",
     "text": [
      "uploading Northwestern Wildcats\n",
      "uploading Nebraska Cornhuskers\n",
      "error thrown for Nebraska Cornhuskers 2015-16\n",
      "error thrown for Nebraska Cornhuskers 2014-15\n",
      "uploading Illinois Fighting Illini\n",
      "uploading Minnesota Golden Gophers\n",
      "uploading Purdue Boilermakers\n",
      "error thrown for Purdue Boilermakers 2015-16\n",
      "error thrown for Purdue Boilermakers 2014-15\n",
      "uploading Rutgers Scarlet Knights\n",
      "uploading Ohio State Buckeyes\n",
      "error thrown for Ohio State Buckeyes 2015-16\n",
      "error thrown for Ohio State Buckeyes 2014-15\n",
      "uploading Maryland Terrapins\n",
      "error thrown for Maryland Terrapins 2015-16\n",
      "error thrown for Maryland Terrapins 2014-15\n",
      "uploading Wisconsin Badgers\n",
      "error thrown for Wisconsin Badgers 2015-16\n",
      "error thrown for Wisconsin Badgers 2014-15\n",
      "uploading Michigan Wolverines\n",
      "error thrown for Michigan Wolverines 2019-20\n",
      "error thrown for Michigan Wolverines 2018-19\n",
      "error thrown for Michigan Wolverines 2017-18\n",
      "error thrown for Michigan Wolverines 2015-16\n",
      "error thrown for Michigan Wolverines 2014-15\n",
      "uploading Michigan State Spartans\n",
      "uploading Indiana Hoosiers\n"
     ]
    }
   ],
   "source": [
    "bigten = {\"Illinois Fighting Illini\", \"Ohio State Buckeyes\", \"Wisconsin Badgers\", \"Purdue Boilermakers\", \"Indiana Hoosiers\", \"Michigan Wolverines\", \"Michigan State Spartans\", \"Nebraska Cornhuskers\", \"Northwestern Wildcats\", \"Minnesota Golden Gophers\",  \"Maryland Terrapins\", \"Rutgers Scarlet Knights\"}\n",
    "# Ones that didnt work altogether \"Penn State Nittany Lions\", \"Iowa Hawkeyes\"\n",
    "for team in bigten:\n",
    "    print(\"uploading \" + team)\n",
    "    for year in range (2024,2014,-1):\n",
    "        wikiscraper(team, year)"
   ]
  }
 ],
 "metadata": {
  "kernelspec": {
   "display_name": "Python 3",
   "language": "python",
   "name": "python3"
  },
  "language_info": {
   "codemirror_mode": {
    "name": "ipython",
    "version": 3
   },
   "file_extension": ".py",
   "mimetype": "text/x-python",
   "name": "python",
   "nbconvert_exporter": "python",
   "pygments_lexer": "ipython3",
   "version": "3.12.3"
  }
 },
 "nbformat": 4,
 "nbformat_minor": 2
}
